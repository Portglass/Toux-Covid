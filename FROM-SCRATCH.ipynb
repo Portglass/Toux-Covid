{
 "cells": [
  {
   "cell_type": "code",
   "execution_count": 11,
   "metadata": {},
   "outputs": [],
   "source": [
    "import os\n",
    "import numpy as np\n",
    "import matplotlib.pyplot as plt\n",
    "import tensorflow as tf\n",
    "\n",
    "from tensorflow.keras.models import Sequential\n",
    "from tensorflow.keras.layers import Activation, Dropout, Flatten, Dense\n",
    "from tensorflow.keras.preprocessing.image import ImageDataGenerator\n",
    "from tensorflow.keras.layers import Convolution2D, MaxPooling2D, ZeroPadding2D\n",
    "from tensorflow.keras import optimizers\n",
    "from tensorflow.keras.preprocessing.image import load_img,img_to_array\n",
    "from sklearn.model_selection import train_test_split\n",
    "from tensorflow.keras.models import load_model"
   ]
  },
  {
   "cell_type": "code",
   "execution_count": 12,
   "metadata": {},
   "outputs": [],
   "source": [
    "train_data_dir = r'cleaned_data/spectrogram_train_test/Train'\n",
    "test_data_dir = 'cleaned_data/spectrogram_train_test/Test'\n",
    "img_width, img_height = 336, 336"
   ]
  },
  {
   "cell_type": "code",
   "execution_count": 13,
   "metadata": {
    "scrolled": true
   },
   "outputs": [
    {
     "name": "stdout",
     "output_type": "stream",
     "text": [
      "Found 958 images belonging to 2 classes.\n",
      "Found 344 images belonging to 2 classes.\n"
     ]
    }
   ],
   "source": [
    "datagen = ImageDataGenerator(rescale=1./255)\n",
    "batch_size = 32 \n",
    "train_generator = datagen.flow_from_directory(\n",
    "        train_data_dir,\n",
    "        target_size=(img_width, img_height),\n",
    "        batch_size=batch_size,\n",
    "        shuffle = True,\n",
    "        class_mode='binary')\n",
    "\n",
    "test_generator = datagen.flow_from_directory(\n",
    "        test_data_dir,\n",
    "        target_size=(img_width, img_height),\n",
    "        batch_size=batch_size,\n",
    "        class_mode='binary')"
   ]
  },
  {
   "cell_type": "code",
   "execution_count": 14,
   "metadata": {},
   "outputs": [
    {
     "name": "stdout",
     "output_type": "stream",
     "text": [
      "Model: \"sequential_1\"\n",
      "_________________________________________________________________\n",
      " Layer (type)                Output Shape              Param #   \n",
      "=================================================================\n",
      " conv2d_3 (Conv2D)           (None, 334, 334, 32)      896       \n",
      "                                                                 \n",
      " activation_5 (Activation)   (None, 334, 334, 32)      0         \n",
      "                                                                 \n",
      " max_pooling2d_3 (MaxPooling  (None, 167, 167, 32)     0         \n",
      " 2D)                                                             \n",
      "                                                                 \n",
      " conv2d_4 (Conv2D)           (None, 165, 165, 32)      9248      \n",
      "                                                                 \n",
      " activation_6 (Activation)   (None, 165, 165, 32)      0         \n",
      "                                                                 \n",
      " max_pooling2d_4 (MaxPooling  (None, 82, 82, 32)       0         \n",
      " 2D)                                                             \n",
      "                                                                 \n",
      " conv2d_5 (Conv2D)           (None, 80, 80, 64)        18496     \n",
      "                                                                 \n",
      " activation_7 (Activation)   (None, 80, 80, 64)        0         \n",
      "                                                                 \n",
      " max_pooling2d_5 (MaxPooling  (None, 40, 40, 64)       0         \n",
      " 2D)                                                             \n",
      "                                                                 \n",
      " flatten_1 (Flatten)         (None, 102400)            0         \n",
      "                                                                 \n",
      " dense_2 (Dense)             (None, 64)                6553664   \n",
      "                                                                 \n",
      " activation_8 (Activation)   (None, 64)                0         \n",
      "                                                                 \n",
      " dropout_1 (Dropout)         (None, 64)                0         \n",
      "                                                                 \n",
      " dense_3 (Dense)             (None, 1)                 65        \n",
      "                                                                 \n",
      " activation_9 (Activation)   (None, 1)                 0         \n",
      "                                                                 \n",
      "=================================================================\n",
      "Total params: 6,582,369\n",
      "Trainable params: 6,582,369\n",
      "Non-trainable params: 0\n",
      "_________________________________________________________________\n"
     ]
    }
   ],
   "source": [
    "# On définit l'architecture du modèle :\n",
    "\n",
    "model = Sequential()\n",
    "model.add(Convolution2D(32, (3, 3), input_shape=(img_width, img_height,3)))\n",
    "model.add(Activation('relu'))\n",
    "model.add(MaxPooling2D(pool_size=(2, 2)))\n",
    "\n",
    "model.add(Convolution2D(32, (3, 3)))\n",
    "model.add(Activation('relu'))\n",
    "model.add(MaxPooling2D(pool_size=(2, 2)))\n",
    "\n",
    "model.add(Convolution2D(64, (3, 3)))\n",
    "model.add(Activation('relu'))\n",
    "model.add(MaxPooling2D(pool_size=(2, 2)))\n",
    "\n",
    "model.add(Flatten())\n",
    "model.add(Dense(64))\n",
    "model.add(Activation('relu'))\n",
    "model.add(Dropout(0.5))\n",
    "model.add(Dense(1))\n",
    "model.add(Activation('sigmoid'))\n",
    "\n",
    "# On compile le modeles :\n",
    "\n",
    "model.compile(loss='binary_crossentropy',\n",
    "              optimizer='adam',\n",
    "              metrics=['accuracy'])\n",
    "\n",
    "# On affiche le model :\n",
    "\n",
    "model.summary()"
   ]
  },
  {
   "cell_type": "code",
   "execution_count": 16,
   "metadata": {},
   "outputs": [],
   "source": [
    "train_samples = 958 \n",
    "test_samples = 344  \n",
    "\n",
    "# On definit les parametres pour l'entrainement :\n",
    "epochs = 100\n",
    "\n",
    "# On definit les callbacks : \n",
    "my_callbacks = [\n",
    "    tf.keras.callbacks.EarlyStopping(monitor='val_accuracy',mode='max',patience = 5,restore_best_weights=True,),\n",
    "]"
   ]
  },
  {
   "cell_type": "code",
   "execution_count": 17,
   "metadata": {},
   "outputs": [
    {
     "name": "stderr",
     "output_type": "stream",
     "text": [
      "C:\\Users\\marti\\AppData\\Local\\Temp\\ipykernel_12024\\2815768393.py:1: UserWarning: `Model.fit_generator` is deprecated and will be removed in a future version. Please use `Model.fit`, which supports generators.\n",
      "  historique = model.fit_generator(\n"
     ]
    },
    {
     "name": "stdout",
     "output_type": "stream",
     "text": [
      "Epoch 1/100\n",
      "29/29 [==============================] - 96s 3s/step - loss: 0.3118 - accuracy: 0.9050 - val_loss: 0.3095 - val_accuracy: 0.9094\n",
      "Epoch 2/100\n",
      "29/29 [==============================] - 94s 3s/step - loss: 0.2589 - accuracy: 0.9320 - val_loss: 0.3106 - val_accuracy: 0.9094\n",
      "Epoch 3/100\n",
      "29/29 [==============================] - 96s 3s/step - loss: 0.2796 - accuracy: 0.9298 - val_loss: 0.3064 - val_accuracy: 0.9187\n",
      "Epoch 4/100\n",
      "29/29 [==============================] - 96s 3s/step - loss: 0.2597 - accuracy: 0.9309 - val_loss: 0.2878 - val_accuracy: 0.9156\n",
      "Epoch 5/100\n",
      "29/29 [==============================] - 90s 3s/step - loss: 0.2512 - accuracy: 0.9352 - val_loss: 0.2868 - val_accuracy: 0.9156\n",
      "Epoch 6/100\n",
      "29/29 [==============================] - 92s 3s/step - loss: 0.2599 - accuracy: 0.9298 - val_loss: 0.3797 - val_accuracy: 0.9219\n",
      "Epoch 7/100\n",
      "29/29 [==============================] - 102s 3s/step - loss: 0.2698 - accuracy: 0.9320 - val_loss: 0.2855 - val_accuracy: 0.9156\n",
      "Epoch 8/100\n",
      "29/29 [==============================] - 103s 4s/step - loss: 0.2644 - accuracy: 0.9298 - val_loss: 0.2903 - val_accuracy: 0.9125\n",
      "Epoch 9/100\n",
      "29/29 [==============================] - 101s 3s/step - loss: 0.2557 - accuracy: 0.9309 - val_loss: 0.2814 - val_accuracy: 0.9187\n",
      "Epoch 10/100\n",
      "29/29 [==============================] - 101s 3s/step - loss: 0.2499 - accuracy: 0.9287 - val_loss: 0.2782 - val_accuracy: 0.9187\n",
      "Epoch 11/100\n",
      "29/29 [==============================] - 102s 4s/step - loss: 0.2363 - accuracy: 0.9310 - val_loss: 0.2914 - val_accuracy: 0.9094\n"
     ]
    }
   ],
   "source": [
    "historique = model.fit_generator(\n",
    "        train_generator,\n",
    "        steps_per_epoch=train_samples // batch_size,\n",
    "        epochs=epochs,\n",
    "        callbacks = my_callbacks,\n",
    "        validation_data = test_generator,\n",
    "        validation_steps=test_samples // batch_size)"
   ]
  },
  {
   "cell_type": "code",
   "execution_count": 18,
   "metadata": {},
   "outputs": [
    {
     "name": "stdout",
     "output_type": "stream",
     "text": [
      "La generation optimale est :  1\n",
      "Avec une val_accuracy de :  0.9049676060676575\n"
     ]
    }
   ],
   "source": [
    "n_epochs = len(historique.history['accuracy'])\n",
    "GenOptimale3 = n_epochs-10\n",
    "print(\"La generation optimale est : \",GenOptimale3)\n",
    "print(\"Avec une val_accuracy de : \",historique.history['accuracy'][GenOptimale3-1])"
   ]
  },
  {
   "cell_type": "code",
   "execution_count": 19,
   "metadata": {},
   "outputs": [
    {
     "data": {
      "image/png": "[encoded data removed]",
      "text/plain": [
       "<Figure size 432x288 with 1 Axes>"
      ]
     },
     "metadata": {
      "needs_background": "light"
     },
     "output_type": "display_data"
    }
   ],
   "source": [
    "epochs = range(1,n_epochs + 1)\n",
    "plt.plot(epochs, historique.history['accuracy'], label='Accuracy')\n",
    "plt.plot(epochs, historique.history['val_accuracy'], label='Validation Accuracy')\n",
    "plt.plot(epochs, historique.history['loss'], label='Loss')\n",
    "plt.plot(epochs, historique.history['val_loss'], label='Validation Loss')\n",
    "plt.title('Training and Validation loss and accuracy for From Scratch')\n",
    "plt.legend(loc=\"upper left\")\n",
    "plt.xlabel('Epochs')\n",
    "plt.ylabel('Values')\n",
    "plt.show()"
   ]
  },
  {
   "cell_type": "code",
   "execution_count": null,
   "metadata": {},
   "outputs": [],
   "source": []
  }
 ],
 "metadata": {
  "kernelspec": {
   "display_name": "covid_cough",
   "language": "python",
   "name": "covid_cough"
  },
  "language_info": {
   "codemirror_mode": {
    "name": "ipython",
    "version": 3
   },
   "file_extension": ".py",
   "mimetype": "text/x-python",
   "name": "python",
   "nbconvert_exporter": "python",
   "pygments_lexer": "ipython3",
   "version": "3.8.13"
  }
 },
 "nbformat": 4,
 "nbformat_minor": 4
}
