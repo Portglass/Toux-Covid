{
 "cells": [
  {
   "cell_type": "code",
   "execution_count": 1,
   "metadata": {},
   "outputs": [
    {
     "ename": "ModuleNotFoundError",
     "evalue": "No module named 'librosa'",
     "output_type": "error",
     "traceback": [
      "\u001b[1;31m---------------------------------------------------------------------------\u001b[0m",
      "\u001b[1;31mModuleNotFoundError\u001b[0m                       Traceback (most recent call last)",
      "\u001b[1;32m<ipython-input-1-b5a8dec30263>\u001b[0m in \u001b[0;36m<module>\u001b[1;34m\u001b[0m\n\u001b[0;32m      1\u001b[0m \u001b[1;32mimport\u001b[0m \u001b[0mos\u001b[0m\u001b[1;33m\u001b[0m\u001b[1;33m\u001b[0m\u001b[0m\n\u001b[0;32m      2\u001b[0m \u001b[1;32mfrom\u001b[0m \u001b[0mPIL\u001b[0m \u001b[1;32mimport\u001b[0m \u001b[0mImage\u001b[0m\u001b[1;33m\u001b[0m\u001b[1;33m\u001b[0m\u001b[0m\n\u001b[1;32m----> 3\u001b[1;33m \u001b[1;32mimport\u001b[0m \u001b[0mlibrosa\u001b[0m\u001b[1;33m\u001b[0m\u001b[1;33m\u001b[0m\u001b[0m\n\u001b[0m\u001b[0;32m      4\u001b[0m \u001b[1;32mimport\u001b[0m \u001b[0mlibrosa\u001b[0m\u001b[1;33m.\u001b[0m\u001b[0mdisplay\u001b[0m\u001b[1;33m\u001b[0m\u001b[1;33m\u001b[0m\u001b[0m\n\u001b[0;32m      5\u001b[0m \u001b[1;32mimport\u001b[0m \u001b[0mIPython\u001b[0m\u001b[1;33m.\u001b[0m\u001b[0mdisplay\u001b[0m \u001b[1;32mas\u001b[0m \u001b[0mipd\u001b[0m\u001b[1;33m\u001b[0m\u001b[1;33m\u001b[0m\u001b[0m\n",
      "\u001b[1;31mModuleNotFoundError\u001b[0m: No module named 'librosa'"
     ]
    }
   ],
   "source": [
    "import os\n",
    "from PIL import Image\n",
    "import librosa\n",
    "import librosa.display\n",
    "import IPython.display as ipd\n",
    "import numpy as np\n",
    "import matplotlib.pyplot as plt\n",
    "from scipy.io import wavfile\n",
    "from scipy.fft import fft, ifft\n",
    "from scipy import fftpack\n",
    "from scipy import signal\n",
    "import soundfile as sf\n",
    "from os.path import basename\n",
    "from skimage import io\n",
    "from tensorflow.keras.preprocessing.image import load_img,img_to_array"
   ]
  },
  {
   "cell_type": "code",
   "execution_count": null,
   "metadata": {},
   "outputs": [],
   "source": [
    "audio_directory = 'dataset_renomme/Covid/audio/'\n",
    "SIZE = 500\n",
    "dataset = {}\n",
    "\n",
    "my_audios = os.listdir(audio_directory)\n",
    "for i, audio_name in enumerate(my_audios):\n",
    "    if (audio_name.split('.')[1] == 'wav'):\n",
    "            audio,sr = librosa.load(audio_directory+audio_name)\n",
    "            dataset[audio_name] = audio"
   ]
  },
  {
   "cell_type": "code",
   "execution_count": null,
   "metadata": {},
   "outputs": [],
   "source": [
    "def plot_spectrogram(Y, sr, hop_length, y_axis=\"linear\"):\n",
    "    plt.figure(figsize=(25, 10))\n",
    "    librosa.display.specshow(Y, \n",
    "                             sr=sr, \n",
    "                             hop_length=hop_length, \n",
    "                             x_axis=\"time\", \n",
    "                             y_axis=y_axis)\n",
    "    plt.colorbar(format=\"%+2.f\")"
   ]
  },
  {
   "cell_type": "code",
   "execution_count": null,
   "metadata": {},
   "outputs": [],
   "source": [
    "def transformation(name,scale):\n",
    "# création des variables Fourier et Fréquences, qui permettent de construire le spectre du signal.\n",
    "    fourier = fftpack.fft(scale)\n",
    "    power = np.abs(fourier)\n",
    "# la variable power est créée pour éiminer les amplitudes négatives\n",
    "    frequences = fftpack.fftfreq(scale.size)\n",
    "\n",
    "# filtre du spectre avec du boolean indexing de Numpy\n",
    "    fourier[ power < np.percentile(power,90) ] = 0\n",
    "# Transformation de Fourier Inverse: genere un nouveau signal temporel depuis le spectre filtré\n",
    "    filtered_signal = fftpack.ifft(fourier)\n",
    "\n",
    "    FRAME_SIZE = 2048\n",
    "    HOP_SIZE = 512\n",
    "\n",
    "    S_scale = librosa.stft(np.abs(filtered_signal), n_fft=FRAME_SIZE, hop_length=HOP_SIZE) #librosa.stft(scale, n_fft=FRAME_SIZE, hop_length=HOP_SIZE)\n",
    "    Y_scale = np.abs(S_scale) ** 2\n",
    "\n",
    "    Y_log_scale = librosa.power_to_db(Y_scale)\n",
    "\n",
    "    plot_spectrogram(Y_log_scale, sr, HOP_SIZE, y_axis=\"log\")\n",
    "    fileName1, fileExtension = os.path.splitext(name)\n",
    "    fileName1 = str(fileName1) + \".png\"\n",
    "    plt.savefig('dataset_renomme/Covid/spectrogram'+fileName1)"
   ]
  },
  {
   "cell_type": "code",
   "execution_count": null,
   "metadata": {},
   "outputs": [],
   "source": [
    "for cle,valeur in dataset.items():\n",
    "    transformation(cle,valeur)"
   ]
  }
 ],
 "metadata": {
  "kernelspec": {
   "display_name": "Python 3",
   "language": "python",
   "name": "python3"
  },
  "language_info": {
   "codemirror_mode": {
    "name": "ipython",
    "version": 3
   },
   "file_extension": ".py",
   "mimetype": "text/x-python",
   "name": "python",
   "nbconvert_exporter": "python",
   "pygments_lexer": "ipython3",
   "version": "3.8.8"
  }
 },
 "nbformat": 4,
 "nbformat_minor": 4
}
