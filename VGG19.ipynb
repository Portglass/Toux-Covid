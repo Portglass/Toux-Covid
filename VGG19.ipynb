{
 "cells": [
  {
   "cell_type": "code",
   "execution_count": 1,
   "metadata": {},
   "outputs": [],
   "source": [
    "# Chargement des modules necessaire :\n",
    "\n",
    "import os\n",
    "\n",
    "import cv2, numpy as np\n",
    "import matplotlib.pyplot as plt\n",
    "import random\n",
    "import tensorflow as tf\n",
    "\n",
    "from tensorflow.keras.models import Sequential\n",
    "from tensorflow.keras.layers import Activation, Dropout, Flatten, Dense\n",
    "from tensorflow.keras.preprocessing.image import ImageDataGenerator\n",
    "from tensorflow.keras.layers import Convolution2D, MaxPooling2D, ZeroPadding2D\n",
    "from tensorflow.keras import optimizers\n",
    "from tensorflow.keras import applications\n",
    "from tensorflow.keras.models import Model\n",
    "from tensorflow.keras.preprocessing import image\n",
    "from tensorflow.keras.applications.vgg16 import preprocess_input\n",
    "from tensorflow.keras.utils import plot_model\n",
    "from tensorflow.keras.applications.vgg16 import decode_predictions\n",
    "from tensorflow.keras.preprocessing.image import load_img,img_to_array\n",
    "\n",
    "from keras.models import Sequential\n",
    "from keras.layers.core import Flatten, Dense, Dropout\n",
    "from keras.layers.convolutional import Convolution2D, MaxPooling2D, ZeroPadding2D\n",
    "import cv2, numpy as np"
   ]
  },
  {
   "cell_type": "code",
   "execution_count": 2,
   "metadata": {},
   "outputs": [
    {
     "name": "stdout",
     "output_type": "stream",
     "text": [
      "Il y a 193 images d'entrainement de patient covid.\n",
      "Il y a 865 images d'entrainement de patient non-covid.\n",
      "\n",
      "Il y a 97 images de validation de patient covid.\n",
      "Il y a 289 images de validation de patient non-covid.\n",
      "\n"
     ]
    }
   ],
   "source": [
    "# On declare les chemins vers les donnees :\n",
    "\n",
    "# Image = 'Data'\n",
    "        \n",
    "train_data_dir = 'cleaned_data/spectrogram_train_test/Train'\n",
    "validation_data_dir = 'cleaned_data/spectrogram_train_test/Test'\n",
    "#test_data_dir = '../../spectrogramm/test'\n",
    "\n",
    "# Dimmension et path : \n",
    "img_width, img_height = 336, 336 #224\n",
    "\n",
    "ImageTRAINCOVID = os.listdir(train_data_dir + '/Cov')\n",
    "ImageTRAINNORMAL = os.listdir(train_data_dir + '/noncovid')\n",
    "\n",
    "ImageVALIDATIONCOVID = os.listdir(validation_data_dir + '/Cov')\n",
    "ImageVALIDATIONNORMAL = os.listdir(validation_data_dir + '/noncovid')\n",
    "\n",
    "#ImageTESTCOVID = os.listdir(test_data_dir + '/Covid-19')\n",
    "#ImageTESTNORMAL = os.listdir(test_data_dir + '/spectro_healthy')\n",
    "\n",
    "print('Il y a ' + str(len(ImageTRAINCOVID)) + ' images d\\'entrainement de patient covid.') \n",
    "print('Il y a ' + str(len(ImageTRAINNORMAL)) + ' images d\\'entrainement de patient non-covid.\\n') \n",
    "\n",
    "print('Il y a ' + str(len(ImageVALIDATIONCOVID)) + ' images de validation de patient covid.') \n",
    "print('Il y a ' + str(len(ImageVALIDATIONNORMAL)) + ' images de validation de patient non-covid.\\n')\n",
    "\n",
    "#print('Il y a ' + str(len(ImageTESTCOVID)) + ' images de test de patient covid.') \n",
    "#print('Il y a ' + str(len(ImageTESTNORMAL)) + ' images de test de patient non-covid.')"
   ]
  },
  {
   "cell_type": "code",
   "execution_count": 3,
   "metadata": {
    "scrolled": true
   },
   "outputs": [
    {
     "name": "stdout",
     "output_type": "stream",
     "text": [
      "Found 1056 images belonging to 2 classes.\n",
      "Found 384 images belonging to 2 classes.\n"
     ]
    }
   ],
   "source": [
    "# Preprocessing :\n",
    "# On rescale les images :\n",
    "datagen = ImageDataGenerator(rescale=1./255)\n",
    "\n",
    "# On definit la batch size :\n",
    "batch_size = 32\n",
    "\n",
    "# On prepare les tableaux de donnees depuis les images :\n",
    "train_generator_bottleneck = datagen.flow_from_directory(\n",
    "        train_data_dir,\n",
    "        target_size=(img_width, img_height),\n",
    "        batch_size=batch_size,\n",
    "        class_mode=None,\n",
    "        shuffle=False)\n",
    "\n",
    "# On prepare les tableaux de donnees depuis les images :\n",
    "validation_generator_bottleneck = datagen.flow_from_directory(\n",
    "        validation_data_dir,\n",
    "        target_size=(img_width, img_height),\n",
    "        batch_size=batch_size,\n",
    "        class_mode=None,\n",
    "        shuffle=True)\n",
    "\n",
    "#test_generator_bottleneck = datagen.flow_from_directory(\n",
    "        #test_data_dir,\n",
    "        #target_size=(img_width, img_height),\n",
    "        #batch_size=batch_size,\n",
    "        #class_mode=None,\n",
    "        #shuffle=True)\n",
    "\n",
    "\n"
   ]
  },
  {
   "cell_type": "code",
   "execution_count": 4,
   "metadata": {},
   "outputs": [],
   "source": [
    "# Chargement de VGG16 sans la partie fully-connected avec le reseau convolutif entrainer sur imagenet :\n",
    "\n",
    "model_vgg = applications.VGG19(include_top=False, weights='imagenet')"
   ]
  },
  {
   "cell_type": "code",
   "execution_count": 5,
   "metadata": {},
   "outputs": [
    {
     "name": "stderr",
     "output_type": "stream",
     "text": [
      "/Users/baudouin/opt/anaconda3/lib/python3.7/site-packages/keras/engine/training.py:2040: UserWarning: `Model.predict_generator` is deprecated and will be removed in a future version. Please use `Model.predict`, which supports generators.\n",
      "  warnings.warn('`Model.predict_generator` is deprecated and '\n",
      "/Users/baudouin/opt/anaconda3/lib/python3.7/site-packages/keras/engine/training.py:2040: UserWarning: `Model.predict_generator` is deprecated and will be removed in a future version. Please use `Model.predict`, which supports generators.\n",
      "  warnings.warn('`Model.predict_generator` is deprecated and '\n"
     ]
    }
   ],
   "source": [
    "# On utilse le model VGG16 pour extraire les features de nos images \n",
    "# (on fait recupere la sortie du reseau convolutionnel) :\n",
    "train_features = model_vgg.predict_generator(train_generator_bottleneck, 1056 // batch_size)\n",
    "validation_features = model_vgg.predict_generator(validation_generator_bottleneck, 384 // batch_size)\n",
    "#test_features = model_vgg.predict_generator(test_generator_bottleneck, 1560 // batch_size)"
   ]
  },
  {
   "cell_type": "code",
   "execution_count": null,
   "metadata": {},
   "outputs": [],
   "source": [
    "# L'opération étant longue on enregistre les features obtenus :\n",
    "\n",
    "np.save(open('models/models/trainFeatures_VGG19_AllData.npy', 'wb'), train_features) # ecriture en binaire necessaire\n",
    "np.save(open('models/models/validationFeatures_VGG19_AllData.npy', 'wb'), validation_features) # Idem\n",
    "\n",
    "#np.save(open('models/testFeatures_VGG16_AllData.npy', 'wb'), test_features) # Idem"
   ]
  },
  {
   "cell_type": "code",
   "execution_count": 10,
   "metadata": {},
   "outputs": [],
   "source": [
    "# Si l'operation à deja été effectuer on charge les features :\n",
    "\n",
    "train_features = np.load(open('models/models/trainFeatures_VGG19_AllData.npy', 'rb'))\n",
    "validation_features = np.load(open('models/models/validationFeatures_VGG19_AllData.npy', 'rb'))\n",
    "\n",
    "#test_features = np.load(open('models/testFeatures_VGG16_AllData.npy', 'rb'))"
   ]
  },
  {
   "cell_type": "code",
   "execution_count": 7,
   "metadata": {},
   "outputs": [],
   "source": [
    "# On definit les labels :\n",
    "\n",
    "train_labels = np.array([0] * 864 + [1] * 192)\n",
    "validation_labels = np.array([0] * 288 + [1] * 96 )\n",
    "#test_labels = np.array([0] * 219 + [1] * 1317)"
   ]
  },
  {
   "cell_type": "code",
   "execution_count": 16,
   "metadata": {},
   "outputs": [
    {
     "name": "stdout",
     "output_type": "stream",
     "text": [
      "Model: \"sequential_2\"\n",
      "_________________________________________________________________\n",
      "Layer (type)                 Output Shape              Param #   \n",
      "=================================================================\n",
      "flatten_2 (Flatten)          (None, 51200)             0         \n",
      "_________________________________________________________________\n",
      "dense_4 (Dense)              (None, 128)               6553728   \n",
      "_________________________________________________________________\n",
      "dropout_2 (Dropout)          (None, 128)               0         \n",
      "_________________________________________________________________\n",
      "dense_5 (Dense)              (None, 1)                 129       \n",
      "=================================================================\n",
      "Total params: 6,553,857\n",
      "Trainable params: 6,553,857\n",
      "Non-trainable params: 0\n",
      "_________________________________________________________________\n"
     ]
    }
   ],
   "source": [
    "# modele :\n",
    "model_top3 = Sequential()\n",
    "model_top3.add(Flatten(input_shape=train_features.shape[1:])) #Flatten layers are used when you got a multidimensional output and you want to make it linear to pass it onto a Dense layer.\n",
    "model_top3.add(Dense(128, activation='relu')) #Dense layers are used when association can exist among any feature to any other feature in data point.\n",
    "model_top3.add(Dropout(0.5)) #Dropout is a way of cutting too much association among features by dropping the weights (edges) at a probability.\n",
    "model_top3.add(Dense(1, activation='sigmoid'))\n",
    "\n",
    "# On compile :\n",
    "model_top3.compile(optimizer='rmsprop', loss='binary_crossentropy', metrics=['accuracy'])\n",
    "\n",
    "# On affiche :\n",
    "model_top3.summary()"
   ]
  },
  {
   "cell_type": "code",
   "execution_count": 9,
   "metadata": {},
   "outputs": [],
   "source": [
    "# On definit les parametres pour l'entrainement :\n",
    "epochs = 100\n",
    "\n",
    "\n",
    "# On definit les callbacks : \n",
    "my_callbacks = [\n",
    "    tf.keras.callbacks.EarlyStopping(monitor='accuracy',mode='max',patience = 10,restore_best_weights=True,),\n",
    "]"
   ]
  },
  {
   "cell_type": "code",
   "execution_count": 10,
   "metadata": {},
   "outputs": [
    {
     "name": "stdout",
     "output_type": "stream",
     "text": [
      "WARNING:tensorflow:From /Users/baudouin/opt/anaconda3/lib/python3.7/site-packages/tensorflow/python/ops/array_ops.py:5075: calling gather (from tensorflow.python.ops.array_ops) with validate_indices is deprecated and will be removed in a future version.\n",
      "Instructions for updating:\n",
      "The `validate_indices` argument has no effect. Indices are always validated on CPU and never validated on GPU.\n",
      "Epoch 1/100\n",
      "33/33 [==============================] - 3s 63ms/step - loss: 1.3268 - accuracy: 0.7888 - val_loss: 0.6237 - val_accuracy: 0.7500\n",
      "Epoch 2/100\n",
      "33/33 [==============================] - 2s 51ms/step - loss: 0.5641 - accuracy: 0.8059 - val_loss: 0.9626 - val_accuracy: 0.7500\n",
      "Epoch 3/100\n",
      "33/33 [==============================] - 2s 55ms/step - loss: 0.4961 - accuracy: 0.8182 - val_loss: 0.7418 - val_accuracy: 0.7500\n",
      "Epoch 4/100\n",
      "33/33 [==============================] - 2s 54ms/step - loss: 0.4909 - accuracy: 0.8182 - val_loss: 0.7439 - val_accuracy: 0.7500\n",
      "Epoch 5/100\n",
      "33/33 [==============================] - 2s 52ms/step - loss: 0.4893 - accuracy: 0.8182 - val_loss: 0.7937 - val_accuracy: 0.7500\n",
      "Epoch 6/100\n",
      "33/33 [==============================] - 2s 52ms/step - loss: 0.4811 - accuracy: 0.8182 - val_loss: 0.7234 - val_accuracy: 0.7500\n",
      "Epoch 7/100\n",
      "33/33 [==============================] - 2s 51ms/step - loss: 0.4740 - accuracy: 0.8182 - val_loss: 0.9489 - val_accuracy: 0.7500\n",
      "Epoch 8/100\n",
      "33/33 [==============================] - 2s 55ms/step - loss: 0.4823 - accuracy: 0.8182 - val_loss: 1.0285 - val_accuracy: 0.7500\n",
      "Epoch 9/100\n",
      "33/33 [==============================] - 2s 51ms/step - loss: 0.4735 - accuracy: 0.8182 - val_loss: 0.9969 - val_accuracy: 0.7500\n",
      "Epoch 10/100\n",
      "33/33 [==============================] - 2s 56ms/step - loss: 0.4715 - accuracy: 0.8182 - val_loss: 0.9970 - val_accuracy: 0.7500\n",
      "Epoch 11/100\n",
      "33/33 [==============================] - 2s 56ms/step - loss: 0.4677 - accuracy: 0.8182 - val_loss: 1.0983 - val_accuracy: 0.7500\n",
      "Epoch 12/100\n",
      "33/33 [==============================] - 2s 61ms/step - loss: 0.4758 - accuracy: 0.8182 - val_loss: 1.0744 - val_accuracy: 0.7500\n",
      "Epoch 13/100\n",
      "33/33 [==============================] - 2s 57ms/step - loss: 0.4604 - accuracy: 0.8182 - val_loss: 1.0662 - val_accuracy: 0.7500\n"
     ]
    }
   ],
   "source": [
    "# On entraine le modèle:\n",
    "historique3 = model_top3.fit(train_features, train_labels,\n",
    "        epochs=epochs, \n",
    "        callbacks = my_callbacks,\n",
    "        batch_size=batch_size,\n",
    "        validation_data=(validation_features, validation_labels))\n",
    "\n"
   ]
  },
  {
   "cell_type": "code",
   "execution_count": 12,
   "metadata": {},
   "outputs": [
    {
     "name": "stdout",
     "output_type": "stream",
     "text": [
      "La generation optimale est :  3\n",
      "Avec une accuracy de :  0.8181818127632141\n"
     ]
    }
   ],
   "source": [
    "n_epochs = len(historique3.history['accuracy'])\n",
    "GenOptimale3 = n_epochs-10\n",
    "print(\"La generation optimale est : \",GenOptimale3)\n",
    "print(\"Avec une accuracy de : \",historique3.history['accuracy'][GenOptimale3-1])\n",
    "model_top3.save_weights('weights/vgg19_heavyTop_224_224_'+str(GenOptimale3)+'.h5')"
   ]
  },
  {
   "cell_type": "code",
   "execution_count": 13,
   "metadata": {},
   "outputs": [
    {
     "data": {
      "image/png": "[encoded data removed]",
      "text/plain": [
       "<Figure size 432x288 with 1 Axes>"
      ]
     },
     "metadata": {
      "needs_background": "light"
     },
     "output_type": "display_data"
    }
   ],
   "source": [
    "epochs = range(1,n_epochs+1)\n",
    "plt.plot(epochs, historique3.history['accuracy'], label='Accuracy')\n",
    "plt.plot(epochs, historique3.history['val_accuracy'], label='Validation Accuracy')\n",
    "plt.plot(epochs, historique3.history['loss'], label='Loss')\n",
    "plt.plot(epochs, historique3.history['val_loss'], label='Validation Loss')\n",
    "plt.title('Training and Validation loss and accuracy for the heavy layer fully connected')\n",
    "plt.legend(loc=\"upper left\")\n",
    "plt.xlabel('Epochs')\n",
    "plt.ylabel('Values')\n",
    "plt.show()"
   ]
  }
 ],
 "metadata": {
  "kernelspec": {
   "display_name": "Python 3",
   "language": "python",
   "name": "python3"
  },
  "language_info": {
   "codemirror_mode": {
    "name": "ipython",
    "version": 3
   },
   "file_extension": ".py",
   "mimetype": "text/x-python",
   "name": "python",
   "nbconvert_exporter": "python",
   "pygments_lexer": "ipython3",
   "version": "3.7.7"
  }
 },
 "nbformat": 4,
 "nbformat_minor": 4
}
